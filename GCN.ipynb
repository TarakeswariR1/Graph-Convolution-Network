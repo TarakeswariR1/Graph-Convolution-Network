{
 "cells": [
  {
   "cell_type": "code",
   "execution_count": 3,
   "metadata": {},
   "outputs": [],
   "source": [
    "import  torch\n",
    "from    torch import nn\n",
    "from    torch.nn import functional as F\n",
    "import importlib\n",
    "%run 'modelGCN.ipynb'\n",
    "\n",
    "\n",
    "class GCN(nn.Module):\n",
    "    def __init__(self, input_dim, output_dim, num_classes):\n",
    "        super(GCN, self).__init__()\n",
    "\n",
    "        self.input_dim = input_dim \n",
    "        self.output_dim = output_dim\n",
    "\n",
    "        print('Input dimensions:', input_dim)\n",
    "        print('Number of Hidden layers', output_dim)\n",
    "        print('Number of classes:', num_classes)\n",
    "\n",
    "\n",
    "        self.GCN1 = GraphConvolution(self.input_dim, output_dim,\n",
    "                                                     activation=F.relu,\n",
    "                                                     dropout=0)\n",
    "\n",
    "        self.GCN2 = GraphConvolution(output_dim, num_classes,\n",
    "                                                     activation=F.relu,\n",
    "                                                     dropout=0)\n",
    "\n",
    "                                    \n",
    "\n",
    "    def forward(self, inputs):\n",
    "        x = inputs\n",
    "        H1 = F.dropout(F.relu(self.GCN1(x, A1)), self.dropout, training=self.training)\n",
    "        H2 = F.dropout(F.relu(self.GCN1(H2, A2)), self.dropout, training=self.training)\n",
    "        H3 = F.dropout(F.relu(self.GCN1(H3, A3)), self.dropout, training=self.training)\n",
    "        H4 = F.dropout(F.relu(self.GCN1(H4, A4)), self.dropout, training=self.training)\n",
    "        H = F.normalize(H4)\n",
    "        #The dataset is a multi class classification problem so the out is number of classes\n",
    "        out= self.GCN2(H, 3)\n",
    "       \n",
    "        return F.log_softmax(out)"
   ]
  }
 ],
 "metadata": {
  "kernelspec": {
   "display_name": "Python 3",
   "language": "python",
   "name": "python3"
  },
  "language_info": {
   "codemirror_mode": {
    "name": "ipython",
    "version": 3
   },
   "file_extension": ".py",
   "mimetype": "text/x-python",
   "name": "python",
   "nbconvert_exporter": "python",
   "pygments_lexer": "ipython3",
   "version": "3.7.7"
  }
 },
 "nbformat": 4,
 "nbformat_minor": 4
}
