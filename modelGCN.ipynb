{
 "cells": [
  {
   "cell_type": "code",
   "execution_count": 3,
   "metadata": {},
   "outputs": [],
   "source": [
    "import  torch\n",
    "from    torch import nn\n",
    "from    torch.nn import functional as F\n",
    "#Layer to the model\n",
    "\n",
    "class GraphConvolution(nn.Module):\n",
    "\n",
    "\n",
    "    def __init__(self, input_dim, output_dim, num_classes, bias=False,activation = F.relu,featureless=False):\n",
    "        super(GraphConvolution, self).__init__()\n",
    "\n",
    "\n",
    "        self.bias = bias\n",
    "        self.activation = activation\n",
    "        self.featureless = featureless\n",
    "        self.num_features_nonzero = num_features\n",
    "        #Check if Adjacent matrix weight can be added here.\n",
    "\n",
    "        self.weight = nn.Parameter(torch.FloatTensor(A1, A2, A3, A4))\n",
    "        self.bias = None\n",
    "        if bias:\n",
    "            self.bias = nn.Parameter(torch.zeros(output_dim))\n",
    "\n",
    "\n",
    "    def forward(self, inputs, adj):\n",
    "        support = torch.mm(inputs, self.weight)\n",
    "        output = torch.spmm(support, output_dim)\n",
    "        \n",
    "        if self.bias is not None:\n",
    "            return output + self.bias\n",
    "        else:\n",
    "            return output \n",
    "        return output"
   ]
  },
  {
   "cell_type": "code",
   "execution_count": null,
   "metadata": {},
   "outputs": [],
   "source": []
  }
 ],
 "metadata": {
  "kernelspec": {
   "display_name": "Python 3",
   "language": "python",
   "name": "python3"
  },
  "language_info": {
   "codemirror_mode": {
    "name": "ipython",
    "version": 3
   },
   "file_extension": ".py",
   "mimetype": "text/x-python",
   "name": "python",
   "nbconvert_exporter": "python",
   "pygments_lexer": "ipython3",
   "version": "3.7.7"
  }
 },
 "nbformat": 4,
 "nbformat_minor": 4
}
